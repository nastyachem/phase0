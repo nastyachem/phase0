{
 "cells": [
  {
   "cell_type": "markdown",
   "metadata": {},
   "source": [
    "# Фаза-0 \n",
    "## День 5. Задачи на ООП\n",
    "\n",
    "- Если задачу не получается сделать дольше 45 минут, то можно отложить её и попробовать выполнить позже\n",
    "- При этом важно сделать перерыв на 5 минут и только после этого приступить к следующему заданию \n",
    "- Когда выполните этот ноутбук (или наступит следующий день), cохрани изменения на github и отправь pull request на проверку\n",
    "- Если останутся невыполненные задания, то отправьте их в репозиторий на github как только выполните их"
   ]
  },
  {
   "cell_type": "markdown",
   "metadata": {},
   "source": [
    "**Задание 01**"
   ]
  },
  {
   "cell_type": "code",
   "execution_count": 1,
   "metadata": {},
   "outputs": [],
   "source": [
    "# Напишите класс, который реализует метод `__init__`, который принимает в качестве аргументов имя и фамилию человека,\n",
    "# а также возраст, годовую зарплату, количество членов семьи, наличие водительского удостоверения.\n",
    "# Создайте объект класса и присвойте его переменной `person`.\n",
    "# Выведите значения всех полей на экран. Для этого реализуй магический метод __str__"
   ]
  },
  {
   "cell_type": "code",
   "execution_count": 2,
   "metadata": {},
   "outputs": [
    {
     "ename": "SyntaxError",
     "evalue": "expected ':' (687497947.py, line 9)",
     "output_type": "error",
     "traceback": [
      "  \u001b[36mCell\u001b[39m\u001b[36m \u001b[39m\u001b[32mIn[2]\u001b[39m\u001b[32m, line 9\u001b[39m\n\u001b[31m    \u001b[39m\u001b[31mdef __str__(self)\u001b[39m\n                     ^\n\u001b[31mSyntaxError\u001b[39m\u001b[31m:\u001b[39m expected ':'\n"
     ]
    }
   ],
   "source": [
    "class Person:\n",
    "    def __init__(self,name,familia,age,salar,family_num,car):\n",
    "        self.name=name\n",
    "        self.familia=familia\n",
    "        self.age=age\n",
    "        self.salar=salar\n",
    "        self.family_num=family_num\n",
    "        self.car=car\n",
    "    def __str__(self)\n",
    "        return f\"Имя:{self.name} Фамилия:{self.familia}Возраст:{self.age}Годовая зарплата:{self.salar}Количество членов семьи:{self.family_num}Наличие водительского удостоверения:{self.car} \"\n",
    "\n",
    "        "
   ]
  },
  {
   "cell_type": "markdown",
   "metadata": {},
   "source": [
    "**Задание 02**"
   ]
  },
  {
   "cell_type": "code",
   "execution_count": null,
   "metadata": {},
   "outputs": [],
   "source": [
    "# Напишите класс `Student` который наследует класс `Person`.\n",
    "# В классе `Student` должен быть определен метод `study`, который выводит на экран строку `\"I'm studying\"`.\n",
    "# Создайте объект класса `Student` и присвойте его переменной `student`.\n",
    "# Выведите на экран значения переменных `student.family_size` и `student.salary`.\n",
    "# Вызовите метод `study` для объекта `student`.\n"
   ]
  },
  {
   "cell_type": "code",
   "execution_count": 3,
   "metadata": {},
   "outputs": [
    {
     "ename": "NameError",
     "evalue": "name 'Person' is not defined",
     "output_type": "error",
     "traceback": [
      "\u001b[31m---------------------------------------------------------------------------\u001b[39m",
      "\u001b[31mNameError\u001b[39m                                 Traceback (most recent call last)",
      "\u001b[36mCell\u001b[39m\u001b[36m \u001b[39m\u001b[32mIn[3]\u001b[39m\u001b[32m, line 1\u001b[39m\n\u001b[32m----> \u001b[39m\u001b[32m1\u001b[39m \u001b[38;5;28;01mclass\u001b[39;00m \u001b[34;01mStudent\u001b[39;00m(\u001b[43mPerson\u001b[49m):\n\u001b[32m      2\u001b[39m     \u001b[38;5;28;01mdef\u001b[39;00m \u001b[34mstudy\u001b[39m(\u001b[38;5;28mself\u001b[39m):\n\u001b[32m      3\u001b[39m         \u001b[38;5;28mprint\u001b[39m(\u001b[33m\"\u001b[39m\u001b[33mI\u001b[39m\u001b[33m'\u001b[39m\u001b[33mm studying\u001b[39m\u001b[33m\"\u001b[39m)\n",
      "\u001b[31mNameError\u001b[39m: name 'Person' is not defined"
     ]
    }
   ],
   "source": [
    "class Student(Person):\n",
    "    def study(self):\n",
    "        print(\"I'm studying\")\n",
    "student=Student(\"Дуриан\",\"Дуреевич\",\"21\",\"2000\",\"4\",\"Есть\")\n",
    "print(student.family_num)\n",
    "print(student.salar)\n",
    "student.study()\n",
    "    "
   ]
  },
  {
   "cell_type": "markdown",
   "metadata": {},
   "source": [
    "**Задание 03**"
   ]
  },
  {
   "cell_type": "code",
   "execution_count": null,
   "metadata": {},
   "outputs": [],
   "source": [
    "# Напишите класс `SocialWorker` который наследует класс `Person`.\n",
    "# В классе `SocialWorker` должен быть определен метод `work`, который выводит на экран строку `\"I'm working\"`.\n",
    "# Создайте объект класса `SocialWorker` и присвойте его переменной `worker`.\n",
    "# Выведите на экран значения переменных `worker.name` и `worker.age`.\n",
    "# Вызовите метод `work` для объекта `worker`."
   ]
  },
  {
   "cell_type": "code",
   "execution_count": null,
   "metadata": {},
   "outputs": [],
   "source": [
    "class SocialWorker(Person):\n",
    "    def work(self):\n",
    "        print(\"I'm working\")\n",
    "    worker=SocialWorker(\"Евгений\",\"Петрович\",\"45\",\"25000\",\"15\",\"Нет\")\n",
    "    print(worker.name)\n",
    "    print(worker.age)\n",
    "    worker.work()"
   ]
  },
  {
   "cell_type": "markdown",
   "metadata": {},
   "source": [
    "**Задание 04**"
   ]
  },
  {
   "cell_type": "code",
   "execution_count": null,
   "metadata": {},
   "outputs": [],
   "source": [
    "# Напишите класс `Programmer` который наследует класс `Person`.\n",
    "# В классе `Programmer` должен быть определен метод `program`, который выводит на экран строку `\"I'm programming\"`.\n",
    "# Создайте объект класса `Programmer` и присвойте его переменной `programmer`.\n",
    "# Выведите на экран значения переменных `programmer.name` и `programmer.age`.\n",
    "# Вызовите метод `program` для объекта `programmer`."
   ]
  },
  {
   "cell_type": "code",
   "execution_count": null,
   "metadata": {},
   "outputs": [],
   "source": [
    "class Programmer(Person):\n",
    "    def program(self):\n",
    "        print(\"I'm programming\")\n",
    "    programmer=Programmer(\"Успех\",\"Успехович\",\"15\",\"10000000\",\"0\",\"Есть\")\n",
    "    print(programmer.name)\n",
    "    print(programmer.age)\n",
    "    programmer.program()"
   ]
  },
  {
   "cell_type": "markdown",
   "metadata": {},
   "source": [
    "**Задание 05**"
   ]
  },
  {
   "cell_type": "code",
   "execution_count": null,
   "metadata": {},
   "outputs": [],
   "source": [
    "# Напишите класс, который реализует метод для создания набора данных о сотрудниках компании. \n",
    "# В классе определите метод `__init__`, который принимает в качестве аргумента название компании.\n",
    "# Класс должен иметь метод `create_employees`. \n",
    "# Метод должен принимать на вход количество сотрудников и возвращать список \n",
    "# объектов классов `SocialWorker` и `Programmer` в случайном соотношении.\n",
    "# Аргументы для инициализации объектов классов должны быть случайными. \n",
    "# Задайте ограничение на уровень зарплаты - для каждого класса уникальная \"вилка\" зарплаты.\n",
    "# Можно заранее задать перечень возможных имен и фамилий для объектов классов `SocialWorker` и `Programmer`."
   ]
  },
  {
   "cell_type": "code",
   "execution_count": 7,
   "metadata": {},
   "outputs": [
    {
     "name": "stdout",
     "output_type": "stream",
     "text": [
      "Social Worker: Diana Johnson, Salary: 42275\n",
      "Social Worker: Diana Smith, Salary: 43557\n",
      "Social Worker: Diana Williams, Salary: 38908\n",
      "Social Worker: Alice Williams, Salary: 46625\n",
      "Social Worker: Charlie Brown, Salary: 47423\n",
      "Programmer: Hank Anderson, Salary: 69419\n",
      "Programmer: Hank Anderson, Salary: 84116\n",
      "Social Worker: Charlie Brown, Salary: 36200\n",
      "Programmer: Grace Jackson, Salary: 90942\n",
      "Social Worker: Charlie Brown, Salary: 45869\n"
     ]
    }
   ],
   "source": [
    "import random\n",
    "class SocialWorker:\n",
    "    possible_names = [\"Alice\", \"Bob\", \"Charlie\", \"Diana\"]\n",
    "    possible_surnames = [\"Smith\", \"Johnson\", \"Williams\", \"Brown\"]    \n",
    "    def __init__(self):\n",
    "        self.name = random.choice(SocialWorker.possible_names)\n",
    "        self.surname = random.choice(SocialWorker.possible_surnames)\n",
    "        self.salary = random.randint(30000, 50000)  \n",
    "    def __str__(self):\n",
    "        return f\"Social Worker: {self.name} {self.surname}, Salary: {self.salary}\"\n",
    "class Programmer:\n",
    "    possible_names = [\"Eve\", \"Frank\", \"Grace\", \"Hank\"]\n",
    "    possible_surnames = [\"Taylor\", \"Anderson\", \"Thomas\", \"Jackson\"]\n",
    "    def __init__(self):\n",
    "        self.name = random.choice(Programmer.possible_names)\n",
    "        self.surname = random.choice(Programmer.possible_surnames)\n",
    "        self.salary = random.randint(60000, 100000)  \n",
    "    def __str__(self):\n",
    "        return f\"Programmer: {self.name} {self.surname}, Salary: {self.salary}\"\n",
    "class Company:\n",
    "    def __init__(self, name):\n",
    "        self.name = name\n",
    "    def create_employees(self, num_employees):\n",
    "        employees = []\n",
    "        for _ in range(num_employees):\n",
    "            if random.choice([True, False]): \n",
    "                employees.append(SocialWorker())\n",
    "            else:\n",
    "                employees.append(Programmer())\n",
    "        return employees\n",
    "company = Company(\"Tech Corp\")\n",
    "employees = company.create_employees(10)  \n",
    "for employee in employees:\n",
    "    print(employee)\n"
   ]
  },
  {
   "cell_type": "markdown",
   "metadata": {},
   "source": [
    "**Задание 06**"
   ]
  },
  {
   "cell_type": "code",
   "execution_count": null,
   "metadata": {},
   "outputs": [],
   "source": [
    "# Напишите класс, который объединяет ранее созданные функции \n",
    "# по метрикам для бинарной классификации из дня 2 (python_base)\n",
    "# accuracy, precision, recall, F1 Score\n",
    "\n",
    "# 1. В конструкторе __init__ сразу принимаем предсказанные и настоящие значения \n",
    "# добавь проверку на одинаковую длину массивов\n",
    "# 2. Каждый метод (precision, recall, etc) возвращает конкретное значение метрики\n",
    "# 3. В классе должен быть определен метод `report`, который выводит полный отчет\n",
    "# 4. Для построения красивой таблицы можно использовать пакет tabulate \n",
    "# https://www.askpython.com/python-modules/tabulate-tables-in-python"
   ]
  },
  {
   "cell_type": "code",
   "execution_count": 6,
   "metadata": {},
   "outputs": [],
   "source": [
    "from tabulate import tabulate\n",
    "\n",
    "class Evaluator:\n",
    "    def __init__(self, y_true, y_pred):\n",
    "        self.true = y_true\n",
    "        self.pred = y_pred\n",
    "        if len(self.true) != len(self.pred):\n",
    "            raise ValueError(\"Длины y_true и y_pred должны совпадать\")\n",
    "\n",
    "    def conf_matrix(self):\n",
    "        d = {'TP': 0, 'FP': 0, 'TN': 0, 'FN': 0}\n",
    "        for t, p in zip(self.true, self.pred):\n",
    "            if t == 1 and p == 1:\n",
    "                d['TP'] += 1\n",
    "            elif t == 0 and p == 0:\n",
    "                d['TN'] += 1\n",
    "            elif p == 1 and t == 0:\n",
    "                d['FP'] += 1\n",
    "            elif p == 0 and t == 1:\n",
    "                d['FN'] += 1\n",
    "        return d\n",
    "\n",
    "    def accuracy(self):\n",
    "        d = self.conf_matrix()\n",
    "        total = sum(d.values())\n",
    "        return round((d['TP'] + d['TN']) / total, 4) if total else 0.0\n",
    "\n",
    "    def precision(self):\n",
    "        d = self.conf_matrix()\n",
    "        result = d['TP'] + d['FP']\n",
    "        return round(d['TP'] / result, 4) if result else 0.0\n",
    "\n",
    "    def recall(self):\n",
    "        d = self.conf_matrix()\n",
    "        result = d['TP'] + d['FN']\n",
    "        return round(d['TP'] / result, 4) if result else 0.0\n",
    "\n",
    "    def f1_score(self):\n",
    "        p = self.precision()\n",
    "        r = self.recall()\n",
    "        return round(2 * p * r / (p + r), 4) if (p + r) else 0.0\n",
    "\n",
    "    def report(self):\n",
    "        headers = ['Metric', 'Value']\n",
    "        data = [\n",
    "            ['Accuracy', self.accuracy()],\n",
    "            ['Precision', self.precision()],\n",
    "            ['Recall', self.recall()],\n",
    "            ['F1 Score', self.f1_score()]\n",
    "        ]\n",
    "        return tabulate(data, headers=headers, tablefmt='fancy_grid')\n",
    "\n"
   ]
  }
 ],
 "metadata": {
  "kernelspec": {
   "display_name": "base",
   "language": "python",
   "name": "python3"
  },
  "language_info": {
   "codemirror_mode": {
    "name": "ipython",
    "version": 3
   },
   "file_extension": ".py",
   "mimetype": "text/x-python",
   "name": "python",
   "nbconvert_exporter": "python",
   "pygments_lexer": "ipython3",
   "version": "3.12.9"
  }
 },
 "nbformat": 4,
 "nbformat_minor": 4
}
