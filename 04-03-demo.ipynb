{
 "cells": [
  {
   "attachments": {},
   "cell_type": "markdown",
   "id": "85050eab-e875-4c71-bd30-b6eb896ea22f",
   "metadata": {},
   "source": [
    "# Неделя 1. Среда\n",
    "## Проверка статистических гипотез"
   ]
  },
  {
   "cell_type": "code",
   "execution_count": 1,
   "id": "f6b52b1c-8811-4090-be68-7bec3681a282",
   "metadata": {},
   "outputs": [],
   "source": [
    "import numpy as np\n",
    "from scipy.stats import norm\n",
    "from scipy import stats"
   ]
  },
  {
   "cell_type": "markdown",
   "id": "0120f6b4-7251-4d1a-9dbf-d5d5ffa1fcea",
   "metadata": {
    "tags": []
   },
   "source": [
    "## Одновыборочный Z-тест для проверки среднего"
   ]
  },
  {
   "cell_type": "markdown",
   "id": "1b2b5405-76bd-46af-a54a-46f5fef878c0",
   "metadata": {},
   "source": [
    "Возьмем пример из слайдов и попробуем реализовать тест. \n",
    "\n",
    "Студенты университета в начале учебного года сдают предварительное тестирование, оцениваемое по десятибалльной шкале. Вы предполагаете, что средняя оценка равна $6$, и решаете это проверить, опросив несколько человек. Получилась следующая выборка: $9, 5, 7, 7, 4, 10$. Из наблюдений прошлых лет известно, что дисперсия $1$. Проверим гипотезу, что среднее равно $6$, на уровне значимости $0.01$ против односторонней альтернативы $\\mu > 6$.\n",
    "\n",
    "$H_0: \\mu = 6$\n",
    "\n",
    "$H_1: \\mu > 6$"
   ]
  },
  {
   "cell_type": "code",
   "execution_count": 2,
   "id": "c0983454-8571-419c-906e-925360054cf5",
   "metadata": {},
   "outputs": [],
   "source": [
    "sample = [9, 5, 7, 7, 4, 10]\n",
    "mu_0 = 6\n",
    "sigma = 1\n",
    "alpha = 0.01"
   ]
  },
  {
   "cell_type": "markdown",
   "id": "4c59505c-0a9f-459f-a0cd-f7a641951d1d",
   "metadata": {},
   "source": [
    "Статистика критерия выглядит так: \n",
    "\n",
    "$$z = \\dfrac{\\bar{x} - \\mu_0}{\\frac{\\sigma}{\\sqrt{n}}}$$"
   ]
  },
  {
   "cell_type": "code",
   "execution_count": 3,
   "id": "c1e02ef3-725d-4727-9768-70544417b80f",
   "metadata": {},
   "outputs": [],
   "source": [
    "def z_stat_rightside(sample: list, mu_0: float, sigma: float, alpha: float):\n",
    "    x_mean = np.mean(sample)\n",
    "    se = sigma / np.sqrt(len(sample))\n",
    "    z_stat = (x_mean - mu_0) / se\n",
    "    z_crit = norm(0, 1).ppf(1-alpha)\n",
    "    p_value = 1-norm(0, 1).cdf(z_stat)\n",
    "    if z_stat > z_crit:\n",
    "        print(f'H_0 rejected. z_crit={z_crit:.3f} < z_stat={z_stat:.3f}, p_value={p_value:.3f}')\n",
    "    else:\n",
    "        print(f'H_0 accepted. z_crit={z_crit:.3f} < z_stat={z_stat:.3f}, p_value={p_value:.3f}')"
   ]
  },
  {
   "cell_type": "code",
   "execution_count": 4,
   "id": "6bf91482-a876-482a-b7f7-f18e7dafca12",
   "metadata": {},
   "outputs": [
    {
     "name": "stdout",
     "output_type": "stream",
     "text": [
      "H_0 rejected. z_crit=2.326 < z_stat=2.449, p_value=0.007\n"
     ]
    }
   ],
   "source": [
    "z_stat_rightside(sample, mu_0, sigma, alpha)"
   ]
  },
  {
   "cell_type": "markdown",
   "id": "7706e54d-d413-436d-a7f1-17a742286477",
   "metadata": {},
   "source": [
    "❓Какой вывод мы можем сделать?"
   ]
  },
  {
   "cell_type": "markdown",
   "id": "322768cc-de46-4f8c-bc65-98a302d3d27b",
   "metadata": {},
   "source": [
    "☑️ Можно проверить результаты [независимым калькулятором](https://www.statskingdom.com/110MeanNormal1.html)"
   ]
  },
  {
   "cell_type": "markdown",
   "id": "f81ac88f-1fc0-4271-a139-7e1989fe2d4c",
   "metadata": {
    "tags": []
   },
   "source": [
    "## Одновыборочный t-тест"
   ]
  },
  {
   "cell_type": "markdown",
   "id": "99eb625e-26cc-4ecb-9428-c0a5bd4d38ff",
   "metadata": {},
   "source": [
    "Дана выборка: $1,0,3,5,4$. $\\alpha=0.01$. Проверим гипотезы: \n",
    "\n",
    "$H_0: \\mu = 3$\n",
    "\n",
    "$H_1: \\mu < 3$\n",
    "\n",
    "Статистика критерия: \n",
    "\n",
    "$$z = \\dfrac{\\bar{x} - \\mu_0}{\\frac{\\hat{\\sigma}}{\\sqrt{n}}}$$"
   ]
  },
  {
   "cell_type": "code",
   "execution_count": 5,
   "id": "c7206e60-98db-4019-a972-5a342e472870",
   "metadata": {},
   "outputs": [],
   "source": [
    "def std(sample: list) -> float:\n",
    "    return np.sqrt(np.sum([(x_-np.mean(sample))**2 for x_ in sample]) /(len(sample) - 1))"
   ]
  },
  {
   "cell_type": "code",
   "execution_count": 6,
   "id": "de65f662-e1d0-4070-8a48-aa114e069463",
   "metadata": {},
   "outputs": [],
   "source": [
    "sample = [1,0,3,5,4]\n",
    "mu_0 = 3\n",
    "alpha=0.01"
   ]
  },
  {
   "cell_type": "code",
   "execution_count": 7,
   "id": "302d9279-3a78-43be-80a0-a59ab7a59087",
   "metadata": {},
   "outputs": [
    {
     "ename": "NameError",
     "evalue": "name 'student' is not defined",
     "output_type": "error",
     "traceback": [
      "\u001b[31m---------------------------------------------------------------------------\u001b[39m",
      "\u001b[31mNameError\u001b[39m                                 Traceback (most recent call last)",
      "\u001b[36mCell\u001b[39m\u001b[36m \u001b[39m\u001b[32mIn[7]\u001b[39m\u001b[32m, line 2\u001b[39m\n\u001b[32m      1\u001b[39m \u001b[38;5;66;03m# Задаем объект с фиксированным распределением\u001b[39;00m\n\u001b[32m----> \u001b[39m\u001b[32m2\u001b[39m t = \u001b[43mstudent\u001b[49m(df=\u001b[38;5;28mlen\u001b[39m(sample)-\u001b[32m1\u001b[39m)\n",
      "\u001b[31mNameError\u001b[39m: name 'student' is not defined"
     ]
    }
   ],
   "source": [
    "# Задаем объект с фиксированным распределением\n",
    "t = student(df=len(sample)-1)"
   ]
  },
  {
   "cell_type": "code",
   "execution_count": null,
   "id": "36913be2-e517-4031-83b9-0f669cac3304",
   "metadata": {},
   "outputs": [],
   "source": [
    "def t_stat_leftside(sample: list, mu_0: float, alpha: float):\n",
    "    distrib = stats.t(len(sample)-1)\n",
    "    sigma = std(sample)\n",
    "    x_mean = np.mean(sample)\n",
    "    se = sigma / np.sqrt(len(sample))\n",
    "    t_stat = (x_mean - mu_0) / se\n",
    "    t_crit = distrib.ppf(alpha)\n",
    "    p_value = distrib.cdf(t_stat)\n",
    "    \n",
    "    if t_stat < t_crit:\n",
    "        print(f'H_0 rejected. t_crit={t_crit:.3f} < t_stat={t_stat:.3f}, p_value={p_value:.3f}')\n",
    "    else:\n",
    "        print(f'H_0 accepted. t_crit={t_crit:.3f} < t_stat={t_stat:.3f}, p_value={p_value:.3f}')\n",
    "        \n",
    "    ## Comparing with scipy resuls\n",
    "    # sc_stat, sc_pval = stats.ttest_1samp(sample, 3, alternative='less')\n",
    "    if np.allclose([t_stat, p_value], stats.ttest_1samp(sample, 3, alternative='less')):\n",
    "        print('Results identical')\n",
    "    else: print('Failed')"
   ]
  },
  {
   "cell_type": "code",
   "execution_count": null,
   "id": "657b3376-e909-4bd2-81f2-0241800d7621",
   "metadata": {},
   "outputs": [
    {
     "name": "stdout",
     "output_type": "stream",
     "text": [
      "H_0 accepted. t_crit=-3.747 < t_stat=-0.431, p_value=0.344\n",
      "Results identical\n"
     ]
    }
   ],
   "source": [
    "t_stat_leftside(sample, mu_0, alpha)"
   ]
  },
  {
   "cell_type": "markdown",
   "id": "2b7e4367-743d-4857-a5d9-72af6d9a67cc",
   "metadata": {},
   "source": [
    "## Двухвыборочный t-тест"
   ]
  },
  {
   "cell_type": "markdown",
   "id": "5f5ff2c9-e86e-4f4c-9027-d8f627bac169",
   "metadata": {},
   "source": [
    "Двух выборочные тесты бывают двух видов: для [независимых выборок](https://ru.wikipedia.org/wiki/T-%D0%BA%D1%80%D0%B8%D1%82%D0%B5%D1%80%D0%B8%D0%B9_%D0%A1%D1%82%D1%8C%D1%8E%D0%B4%D0%B5%D0%BD%D1%82%D0%B0#%D0%94%D0%B2%D1%83%D1%85%D0%B2%D1%8B%D0%B1%D0%BE%D1%80%D0%BE%D1%87%D0%BD%D1%8B%D0%B9_t-%D0%BA%D1%80%D0%B8%D1%82%D0%B5%D1%80%D0%B8%D0%B9_%D0%B4%D0%BB%D1%8F_%D0%BD%D0%B5%D0%B7%D0%B0%D0%B2%D0%B8%D1%81%D0%B8%D0%BC%D1%8B%D1%85_%D0%B2%D1%8B%D0%B1%D0%BE%D1%80%D0%BE%D0%BA) и для [зависимых выборок](https://ru.wikipedia.org/wiki/T-%D0%BA%D1%80%D0%B8%D1%82%D0%B5%D1%80%D0%B8%D0%B9_%D0%A1%D1%82%D1%8C%D1%8E%D0%B4%D0%B5%D0%BD%D1%82%D0%B0#%D0%94%D0%B2%D1%83%D1%85%D0%B2%D1%8B%D0%B1%D0%BE%D1%80%D0%BE%D1%87%D0%BD%D1%8B%D0%B9_t-%D0%BA%D1%80%D0%B8%D1%82%D0%B5%D1%80%D0%B8%D0%B9_%D0%B4%D0%BB%D1%8F_%D0%B7%D0%B0%D0%B2%D0%B8%D1%81%D0%B8%D0%BC%D1%8B%D1%85_%D0%B2%D1%8B%D0%B1%D0%BE%D1%80%D0%BE%D0%BA)\n",
    "Технология остается все той же, меняются детали вычислений (в частности, дисперсий). В `scipy` есть реализованные варианты: [ttest_ind](https://docs.scipy.org/doc/scipy/reference/generated/scipy.stats.ttest_ind.html#scipy-stats-ttest-ind) и [ttest_rel](https://docs.scipy.org/doc/scipy/reference/generated/scipy.stats.ttest_rel.html#scipy-stats-ttest-rel)"
   ]
  }
 ],
 "metadata": {
  "kernelspec": {
   "display_name": "base",
   "language": "python",
   "name": "python3"
  },
  "language_info": {
   "codemirror_mode": {
    "name": "ipython",
    "version": 3
   },
   "file_extension": ".py",
   "mimetype": "text/x-python",
   "name": "python",
   "nbconvert_exporter": "python",
   "pygments_lexer": "ipython3",
   "version": "3.12.9"
  }
 },
 "nbformat": 4,
 "nbformat_minor": 5
}
