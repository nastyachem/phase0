{
 "cells": [
  {
   "attachments": {},
   "cell_type": "markdown",
   "id": "f7d263c5-ffe0-4de3-9d18-848c4d38a91c",
   "metadata": {},
   "source": [
    "# Неделя 1. Четверг\n",
    "## Проверка статистических гипотез"
   ]
  },
  {
   "cell_type": "code",
   "execution_count": 26,
   "id": "737b1dd5-d353-4e15-80e2-b3dcc978de94",
   "metadata": {},
   "outputs": [],
   "source": [
    "import numpy as np\n",
    "from scipy import stats as st\n",
    "import matplotlib.pyplot as plt\n",
    "import seaborn as sns\n",
    "\n"
   ]
  },
  {
   "cell_type": "markdown",
   "id": "bee8fb28-1377-4ce2-9558-5bc318212a6b",
   "metadata": {},
   "source": [
    "### Задание № 1. Гипотеза о доле\n",
    "\n",
    "Реализовать функцию, позволяющую проверять гипотезу о доле. На вход функция принимает два значения для долей, объем выборки и уровень значимости. "
   ]
  },
  {
   "cell_type": "markdown",
   "id": "7fc50723",
   "metadata": {},
   "source": []
  },
  {
   "cell_type": "code",
   "execution_count": 27,
   "id": "356eb8d3-d79a-49b6-bda8-cc726f0b0960",
   "metadata": {},
   "outputs": [],
   "source": [
    "def proportion_test(p_hat, p_0, n, alpha):\n",
    "    z_stat = (p_hat - p_0)/np.sqrt(p_0*(1-p_0)/n)\n",
    "    p_value = 2 * (1 - st.norm(0, 1).cdf(abs(z_stat)))\n",
    "    return z_stat, p_value"
   ]
  },
  {
   "cell_type": "code",
   "execution_count": 28,
   "id": "7f3eb5e9",
   "metadata": {},
   "outputs": [
    {
     "data": {
      "text/plain": [
       "(np.float64(1.399999999999999), np.float64(0.16151331846754235))"
      ]
     },
     "execution_count": 28,
     "metadata": {},
     "output_type": "execute_result"
    }
   ],
   "source": [
    "p_hat = 0.57\n",
    "p_0 = 0.5\n",
    "alpha = .05\n",
    "n = 100\n",
    "\n",
    "proportion_test(p_hat, p_0, n, alpha)"
   ]
  },
  {
   "cell_type": "markdown",
   "id": "7a6035f4",
   "metadata": {},
   "source": [
    "- Проверьте:  \n",
    "    - можно ли считать монетку честной, если после 100 подбрасываний, выпало 57 орлов  \n",
    "    - Стала ли статистически значимо эффективнее реклама, если ранее конверсия была 0.2, а сейчас на выборке из 200 элементов конверсия вышла 0.3"
   ]
  },
  {
   "cell_type": "markdown",
   "id": "8ea66233-d479-4a83-b52d-4a2e14e32f83",
   "metadata": {},
   "source": [
    "### Задание № 2. Гипотеза о среднем\n",
    "Реализовать функцию, позволяющую вычислять двухвыборочный t-тест. \n",
    "Функция должна принимать следующие аргументы: \n",
    "* `sample_1`, `sample_2` - два списка выборочными данными\n",
    "* `alternative` принимает одно из трех значений: `twosided`, `left`, `right`. Аргумент позволяет контролировать вид проверяемой альтернативы. \n",
    "* `alpha` - уровень значимости\n",
    "* `independent` - `True` или `False`\n",
    "\n",
    "Функция должна распечатывать результат проверки аналогично примеру выше, а также возвращать значение статистики и `p_value`. "
   ]
  },
  {
   "cell_type": "code",
   "execution_count": 29,
   "id": "d7a065f5-f0f1-4598-b7f6-9cfd7eb16da1",
   "metadata": {},
   "outputs": [],
   "source": [
    "def ttest(sample_1, sample_2, alternative='twosided', alpha=.05, independent=True):\n",
    "    mu1 = sample_1.mean()\n",
    "    mu2 = sample_2.mean()\n",
    "    s1 = sample_1.var()\n",
    "    s2 = sample_2.var()\n",
    "    n1 = len(sample_1)\n",
    "    n2 = len(sample_2)\n",
    "    t_stat = (mu1 - mu2)/ np.sqrt(s1/n1+s2/n2)\n",
    "    p_value = 2 * (1 - st.t.cdf(abs(t_stat),df= n-1))\n",
    "    \n",
    "    return t_stat, p_value"
   ]
  },
  {
   "cell_type": "markdown",
   "id": "ae65f0da-0846-4cd1-968f-2230b130c923",
   "metadata": {},
   "source": [
    "☑️ Проверьте свой результат с помощью scipy-функций `ttest_ind` (для случай независимых выборок) и `ttest_rel`(для случая зависимых выборок)."
   ]
  },
  {
   "cell_type": "markdown",
   "id": "009f659c-a581-4860-97bf-3c87424afd42",
   "metadata": {},
   "source": [
    "<img src=\"https://icons.iconarchive.com/icons/icons8/windows-8/256/Programming-Github-icon.png\" width=32 /> Пора сохранить изменения для __github__. \n",
    "\n",
    "1. Перейди в командной строке в папку, в которой расположен этот нотбук. \n",
    "2. Выполни команду `git add 01-05-task.ipynb`\n",
    "3. Выполни команду `git commit -m \"hypothesis tasks in progress\"`\n",
    "4. Выполни команду `git push`"
   ]
  },
  {
   "cell_type": "markdown",
   "id": "ef4aea2b-ce29-4be7-881b-4685e9fa53f9",
   "metadata": {},
   "source": [
    "### Задание № 3. Доверительный интервал\n",
    "\n",
    "Реализовать функцию, позволяющую строить доверительный интервал для среднего. На вход функции поступает выборка (n > 20), уровень значимости. "
   ]
  },
  {
   "cell_type": "code",
   "execution_count": 30,
   "id": "835e7829-9302-49a7-bf8e-191bad5b5415",
   "metadata": {},
   "outputs": [],
   "source": [
    "def conf_ints(sample: list, alpha: float):\n",
    "    n = len(sample)\n",
    "    var = np.var(sample, ddof = 1) # дисперсия \n",
    "    s = np.sqrt(var) # стандартное октлонение\n",
    "    se = s / np.sqrt(n) # стандартная ошибка отклонения\n",
    "    mu = sample.mean() # соеднее значенние\n",
    "    t_crit = st.t.ppf(1 - alpha/2, df = n -1)\n",
    "    lower_bound = mu - t_crit*se\n",
    "    upper_bound = mu + t_crit*se\n",
    "\n",
    "    return lower_bound, upper_bound"
   ]
  },
  {
   "cell_type": "code",
   "execution_count": 31,
   "id": "1c31cea3",
   "metadata": {},
   "outputs": [
    {
     "name": "stdout",
     "output_type": "stream",
     "text": [
      "наше решение:\n",
      "(np.float64(100.40257401969404), np.float64(108.69524150559252))\n",
      "Из коробки:\n",
      "(np.float64(97.80921981692481), np.float64(111.28859570836177))\n"
     ]
    }
   ],
   "source": [
    "sample = np.random.normal(100, 20, size=10)\n",
    "print('наше решение:')\n",
    "print(conf_ints(sample, alpha=0.60))\n",
    "print('Из коробки:')\n",
    "print(st.t.interval(loc = sample.mean(), scale=st.sem(sample), confidence=0.6, df=len(sample)-1))\n"
   ]
  },
  {
   "cell_type": "markdown",
   "id": "d4917cd7",
   "metadata": {},
   "source": [
    "* Постройте 95%-доверительный интервал для среднего кубика, у которого вот такой результат\n",
    "\n",
    "    - [6, 1, 2, 4, 6, 5, 5, 6, 3, 3, 6, 3, 4, 2, 2, 2, 4, 4, 3, 6]\n",
    "    - честный ли он?"
   ]
  },
  {
   "cell_type": "markdown",
   "id": "fc78263e",
   "metadata": {},
   "source": [
    "### Задание № 4 Bootstrap"
   ]
  },
  {
   "cell_type": "markdown",
   "id": "114d7626",
   "metadata": {},
   "source": [
    "* Есть сервис по доставке еды, который заявляет, что среднее время их доставки составляет 20 минут\n",
    "\n",
    "* Мы подняли все наши заказы у данного сервиса"
   ]
  },
  {
   "cell_type": "code",
   "execution_count": 32,
   "id": "dac9e811",
   "metadata": {},
   "outputs": [],
   "source": [
    "sample = np.array(\n",
    "    [10, 13, 18, 8, 14, 15, 14, 15, 10, 14, 21, 20, 18, 13, 10, 13, 11, 10, 21, 16, 18, 21, 22, 20, 25, 14, 12, 14, 11, 16, 30, \\\n",
    "     29, 30, 31, 28, 28, 24, 48, 35, 50, 33, 18, 31, 22, 33, 27, 28, 44, 22, 23, 28, 23, 22, 30,27, 30, 30, 41, 26, 29, 35, 28, 27,\\\n",
    "     22, 25, 33, 28, 7, 19, 15, 20, 36, 22, 17, 17, 29, 14, 31, 11, 16, 24, 13, 15 ,21, 30, 26, 19, 21, 13, 16, 29, 37, 26, 15, 21,\\\n",
    "     24, 12, 27, 18, 32, 33, 47, 23, 33, 17, 19, 25, 15, 14, 20, 23, 13, 44, 33, 48, 34, 34, 28, 27, 21, 26, 44, 41\n",
    "     ]\n",
    ")"
   ]
  },
  {
   "cell_type": "markdown",
   "id": "99cf3e45",
   "metadata": {},
   "source": [
    "* Постройте 95% - доверительный интервал для среднего с помощью метода Bootstrap и проверьте, действительно ли заявленная цифра соответствует действительности"
   ]
  },
  {
   "cell_type": "code",
   "execution_count": 33,
   "id": "da9defa2",
   "metadata": {},
   "outputs": [],
   "source": [
    "def bootstrap_conf_ints(sample: list, alpha: float):\n",
    "    n = 200\n",
    "    array = []\n",
    "    sample = np.array(sample)\n",
    "    for i in range(n):\n",
    "        arr = np.random.choice(sample, size = len(sample), replace=True)\n",
    "        array.append(np.mean(arr))\n",
    "    lower_value = np.percentile(array, 2.5)\n",
    "    upper_value = np.percentile(array, 97.5)\n",
    "    return lower_value, upper_value, array"
   ]
  },
  {
   "cell_type": "markdown",
   "id": "f5484ae6",
   "metadata": {},
   "source": []
  },
  {
   "cell_type": "code",
   "execution_count": 34,
   "id": "4cdc58ea",
   "metadata": {},
   "outputs": [
    {
     "data": {
      "text/plain": [
       "<matplotlib.legend.Legend at 0x176820aa0>"
      ]
     },
     "execution_count": 34,
     "metadata": {},
     "output_type": "execute_result"
    },
    {
     "data": {
      "image/png": "[encoded data removed]",
      "text/plain": [
       "<Figure size 1000x600 with 1 Axes>"
      ]
     },
     "metadata": {},
     "output_type": "display_data"
    }
   ],
   "source": [
    "lower, upper, bootstrap_means = bootstrap_conf_ints(sample, alpha= 0.05)\n",
    "plt.figure(figsize=(10,6))\n",
    "#sns.histplot(bootstrap_means, kde=True)\n",
    "plt.hist(bootstrap_means, bins=30, alpha=0.7, color='skyblue')\n",
    "plt.axvline(lower, color='b', linestyle='--', label=f'Нижняя граница{lower:.2f}')\n",
    "plt.axvline(upper, color='b',linestyle='--',label=f'Верхняя граница {upper:.2f}')\n",
    "plt.axvline(20, color='g', linestyle='-', label='Заявленое средне: 20')\n",
    "plt.axvline(np.mean(sample), color='r', linestyle='-', label=f'Выборрочное среднее:{np.mean(sample):.2f}')\n",
    "plt.title('Бутстрэп-распределение выборочного среднего')\n",
    "plt.xlabel('Среднее время доставки(мин)')\n",
    "plt.ylabel('Частота')\n",
    "plt.legend()"
   ]
  },
  {
   "cell_type": "markdown",
   "id": "4caac3a4-46df-4247-a9ee-176d2c1eae15",
   "metadata": {},
   "source": [
    "### Задание № 5 "
   ]
  },
  {
   "cell_type": "markdown",
   "id": "32001569-4a33-40ee-8a2d-c8dd21d6b10b",
   "metadata": {},
   "source": [
    "Допустим, вы думаете, что $25\\%$ студентов вашего университета ни разу не пропустили ни одной лекции. В выборочном опросе из $75$ случайных студентов таких оказалось $15$ человек. Проверьте свою гипотезу на уровне значимости $\\alpha = 0.02$ против двусторонних альтернатив. В ответ запишите достигаемый уровень значимости с точностью до четвертого знака."
   ]
  },
  {
   "cell_type": "markdown",
   "id": "c0979e11-b8b7-4a1e-85f6-f154e28928d9",
   "metadata": {},
   "source": [
    "❓Каким критерием можно проверить эту гипотезу и почему?\n",
    "гипотеза о доле,"
   ]
  },
  {
   "cell_type": "markdown",
   "id": "493187c8-28c8-4ab8-8249-09107189f09b",
   "metadata": {},
   "source": [
    "> ответ тут"
   ]
  },
  {
   "cell_type": "code",
   "execution_count": 35,
   "id": "7e3cd8f0-8533-410b-baa3-4137e6c7d36a",
   "metadata": {},
   "outputs": [
    {
     "name": "stdout",
     "output_type": "stream",
     "text": [
      "0.31731050786291415\n"
     ]
    }
   ],
   "source": [
    "n = 75 # размер выборки\n",
    "alpha = 0.02 # уровень значимости мы готовы ошибиться на 2 %\n",
    "p0= 0.25 # гопотетическая доля\n",
    "x = 15 # количесвтво студентов без пропусков\n",
    "p1 = x/n #выборочная доля\n",
    "se =np.sqrt(p0*(1 -p0)/n) # стандартная ошибка доли\n",
    "z = (p1 - p0)/ se # z статистика\n",
    "p_value =  2*(1-st.norm(0,1).cdf(abs(z)))\n",
    "\n",
    "print(p_value)"
   ]
  },
  {
   "cell_type": "markdown",
   "id": "bd7138fc",
   "metadata": {},
   "source": [
    "p_value> alpha, не отвергаем нулевую гипотезу так как нет статистически значимых доказательств что доля студентов будет отличаться от 25%"
   ]
  },
  {
   "cell_type": "markdown",
   "id": "744c5662-d9f2-45d6-9a01-c1ef5986d89f",
   "metadata": {},
   "source": [
    "### Задание № 6"
   ]
  },
  {
   "cell_type": "markdown",
   "id": "8c048d05-689e-42e2-8c8c-fda6881f5630",
   "metadata": {},
   "source": [
    "Допустим мы предполагаем, что стандартное отклонение в стобалльном рейтинге студентов равно $15$. И решаем проверить это, оценив рейтинг знакомых. Получилась выборка объема $n = 20$, у\n",
    "которой выборочное стандартное отклонение равно $14$.  \n",
    "Уровень значимости возьмём $\\alpha = 0.1$, а альтернативы рассмотрим двусторонние. Используй для этого соответствующий критерий из `scipy`. "
   ]
  },
  {
   "cell_type": "markdown",
   "id": "91f9316e",
   "metadata": {},
   "source": [
    "проверка гипотезы о дисперсии\n",
    "H0: s0 == s1\n",
    "x**2 = (n -1)* s0**2/s1**2"
   ]
  },
  {
   "cell_type": "code",
   "execution_count": 43,
   "id": "7b8dea82-f6ca-47ee-a619-9328c3e4ce70",
   "metadata": {},
   "outputs": [
    {
     "name": "stdout",
     "output_type": "stream",
     "text": [
      "Статистика хи-квадрат: 16.5511\n",
      "Критическая левая сторона:10.1170\n",
      "Критическая правая сторона:30.1435\n",
      "P_value:0.7595\n"
     ]
    }
   ],
   "source": [
    "s0 = 14 #выборочное стандарное отклонение\n",
    "n = 20 #размер выборки\n",
    "alpha1 = 0.1 #уровень значимости\n",
    "s1 = 15 # предполагаемое стандартное отклонение\n",
    "chi2 = (n -1)* (s0**2/s1**2) #Вычисляем статистику Хи квадрат\n",
    "print(f'Статистика хи-квадрат: {chi2:.4f}')\n",
    "\n",
    "#Критические значения для двустороннего теста\n",
    "chi2_crit_left =  st.chi2.ppf(alpha1/2, df= n-1)\n",
    "chi2_crit_right = st.chi2.ppf(1 - alpha1/2, df = (n-1))\n",
    "print(f'Критическая левая сторона:{chi2_crit_left:.4f}')\n",
    "print(f'Критическая правая сторона:{chi2_crit_right:.4f}')\n",
    "\n",
    "p_left = st.chi2.cdf(chi2,df= n-1)\n",
    "p_right = st.chi2.cdf(chi2,df=n-1)\n",
    "p_value = 2 * min(p_left,p_right)\n",
    "print(f'P_value:{p_value:.4f}')"
   ]
  },
  {
   "cell_type": "markdown",
   "id": "8677da5c",
   "metadata": {},
   "source": [
    "p_value > alpha1  H0 не отвергаем"
   ]
  },
  {
   "cell_type": "markdown",
   "id": "60382d8b-b11a-4342-a533-344dee53955a",
   "metadata": {},
   "source": [
    "### Задание № 7"
   ]
  },
  {
   "cell_type": "markdown",
   "id": "41c8efc4-c407-464f-a061-35faeb10887a",
   "metadata": {},
   "source": [
    "Пусть для выборки объема $n = 25$ вычислено среднее  $\\bar{x} = 130$. Из предыдущих исследований известно стандартное отклонение $\\sigma = 12$. Постройте $98\\%$ доверительный интервал для среднего значения."
   ]
  },
  {
   "cell_type": "code",
   "execution_count": 37,
   "id": "cb56c8ba-603f-4084-b051-d66b0828335e",
   "metadata": {},
   "outputs": [],
   "source": [
    "# code"
   ]
  },
  {
   "cell_type": "markdown",
   "id": "26a7ec2a-e1f4-40ba-8002-16066717d435",
   "metadata": {},
   "source": [
    "### Задание № 8\n",
    "\n",
    "Реализуй класс, позволяющий проводить проверку гипотезу о средних для двух выборок. \n",
    "1. В конструктор класса передаются две выборки\n",
    "2. В методе `compute_stat` вычисляется `t` или `z` статистика (соответственно, дисперсия либо вычисляется, либо передается как параметр)\n",
    "3. В методе `test` проводится тестирование, метод возвращает значение статистики, p_value и результат проверки\n",
    "4. Выбирается альтернатива: двухсторонняя, правая или левая\n",
    "5. Уровень значимости по умолчанию равен $0.05$ (может быть переназначен пользователем)\n",
    "6. Добавь метод, позволяющий вычислять доверительные интервалы для средних для обеих выборок"
   ]
  },
  {
   "cell_type": "code",
   "execution_count": 38,
   "id": "20c3d898-8e9d-4690-af48-624f769e12bf",
   "metadata": {},
   "outputs": [
    {
     "ename": "SyntaxError",
     "evalue": "invalid syntax (714016353.py, line 7)",
     "output_type": "error",
     "traceback": [
      "  \u001b[36mCell\u001b[39m\u001b[36m \u001b[39m\u001b[32mIn[38]\u001b[39m\u001b[32m, line 7\u001b[39m\n\u001b[31m    \u001b[39m\u001b[31mdef compute_stat(self, ...):\u001b[39m\n                           ^\n\u001b[31mSyntaxError\u001b[39m\u001b[31m:\u001b[39m invalid syntax\n"
     ]
    }
   ],
   "source": [
    "class StatTester():\n",
    "    def __init__(self, sample1, sample2):\n",
    "        self.sample1 = sample1\n",
    "        self.sample2 = sample2\n",
    "        # код\n",
    "        \n",
    "    def compute_stat(self, ...):\n",
    "        # код\n",
    "        \n",
    "    def test(self, ...):\n",
    "        # код\n",
    "        return\n",
    "    \n",
    "    def compute_conf_ints(self, ...):\n",
    "        # код\n",
    "        \n",
    "        "
   ]
  },
  {
   "cell_type": "markdown",
   "id": "44a91674-8a96-4108-b246-5d1f14e9e07e",
   "metadata": {},
   "source": [
    "<img src=\"https://icons.iconarchive.com/icons/icons8/windows-8/256/Programming-Github-icon.png\" width=32 /> Сохрани файл для __github__. \n",
    "\n",
    "1. Перейди в командной строке в папку, в которой расположен этот нотбук. \n",
    "2. Выполни команду `git add .`\n",
    "3. Выполни команду `git commit -m \"hypothesis tasks completed\"`\n",
    "4. Выполни команду `git push`"
   ]
  }
 ],
 "metadata": {
  "kernelspec": {
   "display_name": "base",
   "language": "python",
   "name": "python3"
  },
  "language_info": {
   "codemirror_mode": {
    "name": "ipython",
    "version": 3
   },
   "file_extension": ".py",
   "mimetype": "text/x-python",
   "name": "python",
   "nbconvert_exporter": "python",
   "pygments_lexer": "ipython3",
   "version": "3.12.9"
  }
 },
 "nbformat": 4,
 "nbformat_minor": 5
}
